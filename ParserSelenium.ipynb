{
 "cells": [
  {
   "cell_type": "code",
   "execution_count": 1,
   "id": "7564b327",
   "metadata": {},
   "outputs": [],
   "source": [
    "from selenium import webdriver\n",
    "from selenium.webdriver.common.by import By\n",
    "from selenium.webdriver.support.ui import WebDriverWait\n",
    "from selenium.webdriver.support import expected_conditions as EC\n",
    "import pandas as pd\n",
    "#подключение библиотеки и нужных инструментов\n",
    "\n",
    "\n",
    "driver = webdriver.Chrome()\n",
    "driver.get('https://raexpert.ru/ratings/')\n",
    "#оборачиваем в переменную класс драйвера\n"
   ]
  },
  {
   "cell_type": "code",
   "execution_count": 2,
   "id": "999b988c",
   "metadata": {},
   "outputs": [],
   "source": [
    "\n",
    "element = WebDriverWait(driver, 10).until(EC.element_to_be_clickable((By.CLASS_NAME, \"b-paginator__link\")))\n",
    "#ждем 10 секунд, пока не будет прокликиваться кнопка с переходом на другую страницу - на всякий случай\n",
    "\n"
   ]
  },
  {
   "cell_type": "code",
   "execution_count": 3,
   "id": "ade75686",
   "metadata": {},
   "outputs": [],
   "source": [
    "'''\n",
    "Функция ниже создана для парсинга страницы конкретного объекта, возвращает словарь с нужными нам данными\n",
    "'''\n",
    "\n",
    "def parsing_element():\n",
    "    dict_item = {\n",
    "        'ИНН': '--',\n",
    "        'Регион': '--',\n",
    "        'Отрасль': '--'}\n",
    "    titles = driver.find_elements(By.CLASS_NAME, 'b-table__title')\n",
    "    data = driver.find_elements(By.CLASS_NAME, 'b-table__data')\n",
    "    for i in range(len(titles)):\n",
    "        if titles[i].text in list(dict_item.keys()):\n",
    "            dict_item[titles[i].text] = data[i].text\n",
    "    return dict_item\n"
   ]
  },
  {
   "cell_type": "code",
   "execution_count": 4,
   "id": "6e56cd1f",
   "metadata": {},
   "outputs": [],
   "source": [
    "'''\n",
    "Функция ниже агрегирует работу предыдущей функции и в своем стеке вызовов собирает массив словарей об искомых объектах\n",
    "'''\n",
    "\n",
    "def parsing_elements(items):\n",
    "    result = []\n",
    "    for elem in range(items):\n",
    "        elements = driver.find_elements(By.XPATH, '/html/body/main/div/div/div/div/table/tbody/tr/td/span/a')\n",
    "        if elements[elem].text != '' and elements[elem].text[0].isalpha():\n",
    "            elements[elem].click()\n",
    "            dict_item = parsing_element()\n",
    "            result.append(dict_item)\n",
    "            driver.back()\n",
    "    return result\n",
    "\n"
   ]
  },
  {
   "cell_type": "code",
   "execution_count": 5,
   "id": "356efd60",
   "metadata": {},
   "outputs": [],
   "source": [
    "\"\"\"Функция ниже - главная функция, собирающая данные из других функций и формирующая готовый ответ, они принимает на вход примерное количество объектов,\n",
    "которые необходимо будет парсить, минимальное значение - 19\"\"\"\n",
    "def main_parsing(min_rows):\n",
    "    iterations = min_rows // 19 #Определяем количество итераций главной функции (сколько страниц она должна посетить). Так как на сайте не всегда ровное количество объектов на странице - берем среднее значение.\n",
    "    items = [] #Формируем массивы, где будут храниться данные\n",
    "    dict_items = [] \n",
    "    for i in range(2, iterations + 2):\n",
    "        td = driver.find_elements(By.TAG_NAME, 'td')  #ищем нужную нам информацию по тегу HTML-документа (страницы сайта динамические и всю нужную нам информацию загружают с помощью скриптов)\n",
    "        td_list = []\n",
    "        for element in td:    ##Проверяем найденные элементы \n",
    "            if element.text != '':\n",
    "                td_list.append(element.text)\n",
    "        for c in range(0, len(td_list), 4):   ##Формируем первый массив с необходимыми данными\n",
    "            item = []\n",
    "            item.append(td_list[c])\n",
    "            item.append(td_list[c + 1])\n",
    "            item.append(td_list[c + 2])\n",
    "            item.append(td_list[c + 3])\n",
    "            items.append(item)\n",
    "        times = len(td_list) // 2  ##переменная td_list содержит по 4 строки информации об одном объекте, в вызываемой ниже функции - \n",
    "        dict_items.append(parsing_elements(times))  ## - С помощью библиотеки находятся 2 типа данных, в одинаковом количестве, поэтому мы передаем число итераций вдвое большее, чем количество объектов (вдвое меньшее, чем количество информации об объектах)\n",
    "        for button in range(9):  ##Ищем кнопки переключения страниц, необходимо именно такое количество итераций, потому что при переходе по ссылкам, предыдущие уже не будут доступны, поэтому здесь мы немного пожертвовали эффективностью ради корректной работы библиотеки\n",
    "            buttons = driver.find_elements(By.CLASS_NAME, 'b-paginator__link')\n",
    "            if buttons[button].text.isdigit() and int(buttons[button].text) == i:\n",
    "                buttons[button].click()\n",
    "    data = [] ##Формируем второй массив с данными\n",
    "    data2 = []\n",
    "    for i in dict_items:\n",
    "        for c in i:\n",
    "            data.append(c)  ##Так как объекты расположены по порядку и в обоих массивах мы проходим по ним одновременно и из каждого берем информацию, индексы одного объекта в разных массивах - идентичны\n",
    "    for i in range(len(data)):\n",
    "        emitent = []\n",
    "        emitent.append(items[i][0])\n",
    "        emitent.append(items[i][1])\n",
    "        emitent.append(items[i][2])\n",
    "        emitent.append(items[i][3])\n",
    "        emitent.append(data[i]['ИНН'])\n",
    "        emitent.append(data[i]['Регион'])\n",
    "        emitent.append(data[i]['Отрасль'])\n",
    "        data2.append(emitent)\n",
    "\n",
    "    return data2"
   ]
  },
  {
   "cell_type": "code",
   "execution_count": 6,
   "id": "0879cc03",
   "metadata": {
    "scrolled": true
   },
   "outputs": [],
   "source": [
    "#Вызываем главную функцию с примерным числом искомых объектов (можно было бы собрать все объекты с сайта, но эта программа рассчитана на определенную выборку (количество))\n",
    "#Результат - список списков, где в каждом списке лежит информация об одном объекте. Let's go to DataFrame\n",
    "data = main_parsing(400)"
   ]
  },
  {
   "cell_type": "code",
   "execution_count": 7,
   "id": "af35c68e",
   "metadata": {},
   "outputs": [],
   "source": [
    "#Формируем словарь для более удобного превращения данный в ДатаФрейм\n",
    "namesList = []\n",
    "rating = []\n",
    "forecast = []\n",
    "date_of_rate = []\n",
    "inn = []\n",
    "region = []\n",
    "branch = []\n",
    "for i in data:\n",
    "    namesList.append(i[0])\n",
    "    rating.append(i[1])\n",
    "    forecast.append(i[2])\n",
    "    date_of_rate.append(i[3])\n",
    "    inn.append(i[4])\n",
    "    region.append(i[5])\n",
    "    branch.append(i[6])\n",
    "data_to_df = {\n",
    "    'Название': namesList,\n",
    "    'Рейтинг': rating,\n",
    "    'Прогноз': forecast,\n",
    "    'Дата выставления рейтинга': date_of_rate,\n",
    "    'ИНН': inn,\n",
    "    'Регион': region,\n",
    "    'Отрасль': branch\n",
    "}\n",
    "\n"
   ]
  },
  {
   "cell_type": "code",
   "execution_count": 8,
   "id": "444ac78f",
   "metadata": {},
   "outputs": [],
   "source": [
    "df = pd.DataFrame(data=data_to_df)"
   ]
  },
  {
   "cell_type": "code",
   "execution_count": 9,
   "id": "3280efae",
   "metadata": {},
   "outputs": [],
   "source": [
    "df.to_csv(('C:\\Programms\\ParserRaexpertPandas\\Emitents.csv'), index=False)"
   ]
  },
  {
   "cell_type": "code",
   "execution_count": null,
   "id": "4fd6fb6e",
   "metadata": {},
   "outputs": [],
   "source": []
  }
 ],
 "metadata": {
  "kernelspec": {
   "display_name": "Python 3 (ipykernel)",
   "language": "python",
   "name": "python3"
  },
  "language_info": {
   "codemirror_mode": {
    "name": "ipython",
    "version": 3
   },
   "file_extension": ".py",
   "mimetype": "text/x-python",
   "name": "python",
   "nbconvert_exporter": "python",
   "pygments_lexer": "ipython3",
   "version": "3.10.2"
  },
  "vscode": {
   "interpreter": {
    "hash": "0ebafeca7da358d963373a0a70f32d2075022606b955c8a3f0c0fc807be989f0"
   }
  }
 },
 "nbformat": 4,
 "nbformat_minor": 5
}
